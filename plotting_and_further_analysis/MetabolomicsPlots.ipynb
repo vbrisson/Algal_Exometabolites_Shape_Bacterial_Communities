{
 "cells": [
  {
   "cell_type": "code",
   "execution_count": 1,
   "id": "43aa67e3",
   "metadata": {},
   "outputs": [],
   "source": [
    "# Plotting Metabolomics Results\n",
    "#\n",
    "# Author: Vanessa Brisson\n",
    "# Copyright (C) 2023 Vanessa Brisson\n",
    "#\n",
    "# License: MIT"
   ]
  },
  {
   "cell_type": "code",
   "execution_count": 2,
   "id": "64dd181d",
   "metadata": {},
   "outputs": [],
   "source": [
    "# LOAD NECESSARY PACKAGES\n",
    "\n",
    "import numpy as np\n",
    "import pandas as pd\n",
    "import scipy.stats\n",
    "from scipy import cluster\n",
    "from scipy import spatial\n",
    "from matplotlib.gridspec import GridSpec\n",
    "from matplotlib.lines import Line2D\n",
    "import matplotlib.patches as patches\n",
    "import matplotlib.pyplot as plt"
   ]
  },
  {
   "cell_type": "code",
   "execution_count": 3,
   "id": "cc31000d",
   "metadata": {},
   "outputs": [],
   "source": [
    "# LOAD POSITIVE MODE DATA\n",
    "# these are the positive mode data output from metatlas"
   ]
  },
  {
   "cell_type": "code",
   "execution_count": 4,
   "id": "d0f4d398",
   "metadata": {
    "scrolled": true
   },
   "outputs": [],
   "source": [
    "data_POS_peakheight = pd.read_csv('ProcessedMetabolomicsData/POS_peak_height_curated.tab.txt',sep='\\t',skiprows=(0),header=(1))\n",
    "data_POS_peakheight.index = [' '.join(x.split('positive')[0].split('_')[1:]).strip() for x in data_POS_peakheight['file']]\n",
    "data_POS_peakheight = data_POS_peakheight.drop(columns='file')\n",
    "data_POS_peakheight = data_POS_peakheight.transpose()\n",
    "data_POS_peakheight.insert(0,'sample name',['-'.join(x.split('_')[12:14]) for x in data_POS_peakheight.index])\n",
    "data_POS_peakheight.insert(1,'sample type',[x.split('-')[0] for x in data_POS_peakheight['sample name']])\n",
    "data_POS_peakheight.insert(2,'time point',[x.split('-')[1] for x in data_POS_peakheight['sample name']])\n",
    "data_POS_peakheight.insert(3,'replicate',[x.split('-')[-1] for x in data_POS_peakheight['sample name']])\n",
    "data_POS_peakheight.index = data_POS_peakheight['sample name']\n",
    "data_POS_peakheight = data_POS_peakheight.fillna(0)\n",
    "data_POS_peakheight = data_POS_peakheight.sort_index()\n",
    "data_POS_peakheight = data_POS_peakheight.drop(columns=['2deoxyadenosine','pyridoxine'])"
   ]
  },
  {
   "cell_type": "code",
   "execution_count": 5,
   "id": "951cfe90",
   "metadata": {
    "scrolled": true
   },
   "outputs": [],
   "source": [
    "data_POS_peakarea = pd.read_csv('ProcessedMetabolomicsData/POS_peak_area_curated.tab.txt',sep='\\t',skiprows=(0),header=(1))\n",
    "data_POS_peakarea.index = [' '.join(x.split('positive')[0].split('_')[1:]).strip() for x in data_POS_peakarea['file']]\n",
    "data_POS_peakarea = data_POS_peakarea.drop(columns='file')\n",
    "data_POS_peakarea = data_POS_peakarea.transpose()\n",
    "data_POS_peakarea.insert(0,'sample name',['-'.join(x.split('_')[12:14]) for x in data_POS_peakarea.index])\n",
    "data_POS_peakarea.insert(1,'sample type',[x.split('-')[0] for x in data_POS_peakarea['sample name']])\n",
    "data_POS_peakarea.insert(2,'time point',[x.split('-')[1] for x in data_POS_peakarea['sample name']])\n",
    "data_POS_peakarea.insert(3,'replicate',[x.split('-')[-1] for x in data_POS_peakarea['sample name']])\n",
    "data_POS_peakarea.index = data_POS_peakarea['sample name']\n",
    "data_POS_peakarea = data_POS_peakarea.fillna(0)\n",
    "data_POS_peakarea = data_POS_peakarea.sort_index()\n",
    "data_POS_peakarea = data_POS_peakarea[['pyridoxine']]"
   ]
  },
  {
   "cell_type": "code",
   "execution_count": 6,
   "id": "ca708c74",
   "metadata": {
    "scrolled": true
   },
   "outputs": [],
   "source": [
    "# use peakheight for all of the positive mode peaks except for pyridoxine, \n",
    "# whose peak shape made peak area more reliable\n",
    "data_POS = data_POS_peakheight.copy()\n",
    "data_POS.insert(6,'pyridoxine', data_POS_peakarea['pyridoxine'])"
   ]
  },
  {
   "cell_type": "code",
   "execution_count": 7,
   "id": "67bafdcf",
   "metadata": {},
   "outputs": [],
   "source": [
    "# LOAD NEGATIVE MODE DATA\n",
    "# these are the negative mode data output from metatlas"
   ]
  },
  {
   "cell_type": "code",
   "execution_count": 8,
   "id": "3c917495",
   "metadata": {
    "scrolled": true
   },
   "outputs": [],
   "source": [
    "data_NEG_peakheight = pd.read_csv('ProcessedMetabolomicsData/NEG_peak_height_curated.tab.txt',sep='\\t',skiprows=(0),header=(1))\n",
    "data_NEG_peakheight.index = [' '.join(x.split('negative')[0].split('_')[1:]).strip() for x in data_NEG_peakheight['file']]\n",
    "data_NEG_peakheight = data_NEG_peakheight.drop(columns='file')\n",
    "data_NEG_peakheight = data_NEG_peakheight.transpose()\n",
    "data_NEG_peakheight.insert(0,'sample name',['-'.join(x.split('_')[12:14]) for x in data_NEG_peakheight.index])\n",
    "data_NEG_peakheight.insert(1,'sample type',[x.split('-')[0] for x in data_NEG_peakheight['sample name']])\n",
    "data_NEG_peakheight.insert(2,'time point',[x.split('-')[1] for x in data_NEG_peakheight['sample name']])\n",
    "data_NEG_peakheight.insert(3,'replicate',[x.split('-')[-1] for x in data_NEG_peakheight['sample name']])\n",
    "data_NEG_peakheight.index = data_NEG_peakheight['sample name']\n",
    "data_NEG_peakheight = data_NEG_peakheight.fillna(0)\n",
    "data_NEG_peakheight = data_NEG_peakheight.sort_index()\n",
    "data_NEG_peakheight = data_NEG_peakheight.drop(columns=['isonicotinic acid', 'N-acetyl-mannosamine', 'norleucine'])"
   ]
  },
  {
   "cell_type": "code",
   "execution_count": 9,
   "id": "53dc0dbe",
   "metadata": {
    "scrolled": true
   },
   "outputs": [],
   "source": [
    "data_NEG_peakarea = pd.read_csv('ProcessedMetabolomicsData/NEG_peak_area_curated.tab.txt',sep='\\t',skiprows=(0),header=(1))\n",
    "data_NEG_peakarea.index = [' '.join(x.split('negative')[0].split('_')[1:]).strip() for x in data_NEG_peakarea['file']]\n",
    "data_NEG_peakarea = data_NEG_peakarea.drop(columns='file')\n",
    "data_NEG_peakarea = data_NEG_peakarea.transpose()\n",
    "data_NEG_peakarea.insert(0,'sample name',['-'.join(x.split('_')[12:14]) for x in data_NEG_peakarea.index])\n",
    "data_NEG_peakarea.insert(1,'sample type',[x.split('-')[0] for x in data_NEG_peakarea['sample name']])\n",
    "data_NEG_peakarea.insert(2,'time point',[x.split('-')[1] for x in data_NEG_peakarea['sample name']])\n",
    "data_NEG_peakarea.insert(3,'replicate',[x.split('-')[-1] for x in data_NEG_peakarea['sample name']])\n",
    "data_NEG_peakarea.index = data_NEG_peakarea['sample name']\n",
    "data_NEG_peakarea = data_NEG_peakarea.fillna(0)\n",
    "data_NEG_peakarea = data_NEG_peakarea.sort_index()"
   ]
  },
  {
   "cell_type": "code",
   "execution_count": 10,
   "id": "824c47f7",
   "metadata": {
    "scrolled": true
   },
   "outputs": [],
   "source": [
    "# using peakheight for all the negative peaks\n",
    "data_NEG = data_NEG_peakheight.copy()"
   ]
  },
  {
   "cell_type": "code",
   "execution_count": 12,
   "id": "69171d58",
   "metadata": {
    "scrolled": true
   },
   "outputs": [],
   "source": [
    "# merging positive and negative data\n",
    "data = pd.merge(data_POS, data_NEG.drop(columns=['sample name','sample type','time point','replicate']), \n",
    "                left_index=True, right_index=True)\n",
    "data = data.drop(columns='mandelic acid')\n",
    "data.to_csv('ProcessedMetabolomicsData/MetabQuant.csv', index=False)"
   ]
  },
  {
   "cell_type": "code",
   "execution_count": 23,
   "id": "68789ceb",
   "metadata": {
    "scrolled": true
   },
   "outputs": [],
   "source": [
    "# this is the same data with metabolite names and sample identifiers manually rerormatted for plotting purposes\n",
    "data2 = pd.read_csv('ProcessedMetabolomicsData/MetabQuant_with_labels.csv')\n",
    "data2.index = data2['sample name']"
   ]
  },
  {
   "cell_type": "code",
   "execution_count": 24,
   "id": "34b8ccdc",
   "metadata": {
    "scrolled": true
   },
   "outputs": [],
   "source": [
    "# REMOVE BACKGROUND\n",
    "\n",
    "# remove the background by subtracting the signal for the extraction control\n",
    "data_bgd_sub = data2[['sample name', 'sample type', 'time point', 'replicate #']].copy()\n",
    "for m in data2.columns[4:]:\n",
    "    bgd = data2.loc[data2['sample type']=='extraction control'].mean()[m]\n",
    "    bgd_sub = data2[m] - bgd\n",
    "    bgd_sub[bgd_sub < 0] = 0\n",
    "    data_bgd_sub[m] = bgd_sub\n",
    "data_bgd_sub = data_bgd_sub.loc[data_bgd_sub['sample type']!='extraction control']"
   ]
  },
  {
   "cell_type": "code",
   "execution_count": 26,
   "id": "a465d788",
   "metadata": {
    "scrolled": true
   },
   "outputs": [],
   "source": [
    "# NORMALIZE DATA\n",
    "\n",
    "# normalize each metabolite to the maximum signal intensity for that metabolite \n",
    "data_norm = data_bgd_sub[['sample name', 'sample type', 'time point', 'replicate #']].copy()\n",
    "for m in data_bgd_sub.columns[4:]:\n",
    "    mymax = data_bgd_sub[m].max()\n",
    "    data_norm[m] = data_bgd_sub[m]/data_bgd_sub[m].max()"
   ]
  },
  {
   "cell_type": "code",
   "execution_count": 27,
   "id": "9a9fcc48",
   "metadata": {},
   "outputs": [
    {
     "data": {
      "image/png": "[encoded data removed]",
      "text/plain": [
       "<Figure size 432x288 with 1 Axes>"
      ]
     },
     "metadata": {
      "needs_background": "light"
     },
     "output_type": "display_data"
    }
   ],
   "source": [
    "# PREPARE DATA FOR PLOTING HEATMAP\n",
    "\n",
    "hmdata = data_norm[data_norm.columns[4:]].values.transpose()\n",
    "metabolite_names = data_norm.columns[4:]\n",
    "\n",
    "# do heirarchical clustering and plot the dendrogram\n",
    "Y = spatial.distance.pdist(hmdata, metric='euclidean')\n",
    "Z = cluster.hierarchy.linkage(Y, method='complete', metric='euclidean')\n",
    "R = cluster.hierarchy.dendrogram(Z, color_threshold=np.inf, orientation='left')\n",
    "\n",
    "# sort the data and associated metabolite names according to the clustering\n",
    "sorted_hmdata = hmdata[R['leaves'][0]]\n",
    "for idx in R['leaves'][1:len(R['leaves'])]:\n",
    "    sorted_hmdata = np.vstack((sorted_hmdata, hmdata[idx]))\n",
    "sorted_metabolite_names = [metabolite_names[x] for x in R['leaves']]"
   ]
  },
  {
   "cell_type": "code",
   "execution_count": 28,
   "id": "ece90f47",
   "metadata": {
    "scrolled": true
   },
   "outputs": [],
   "source": [
    "# PREPARE DATA FOR PLOTTING ACCUMULATION BUBBLE PLOT\n",
    "\n",
    "#  determine mean signal intensity in exudate for each metabolite in each time point\n",
    "data_norm_ex = data_norm.loc[(data_norm['sample type'] == 'exudate') & (data_norm['time point'] != 'medium control')]\n",
    "ex_means = data_norm_ex.drop(columns='replicate #').groupby('time point').mean().transpose()\n",
    "ex_means = ex_means.reindex(sorted_metabolite_names) # order based on heirarchical clustering match to heatmap\n",
    "\n",
    "# determine average metabolite accumulation between time points\n",
    "ex_means['d0to3'] = ex_means['3d']-ex_means['0d']\n",
    "ex_means['d3to6'] = ex_means['6d']-ex_means['3d']\n",
    "ex_means['d6to9'] = ex_means['9d']-ex_means['6d']\n",
    "ex_means['d9to12'] = ex_means['12d']-ex_means['9d']\n",
    "\n",
    "ex_diff = ex_means[['d0to3','d3to6','d6to9','d9to12']]"
   ]
  },
  {
   "cell_type": "code",
   "execution_count": 36,
   "id": "eb23b8b9",
   "metadata": {},
   "outputs": [
    {
     "data": {
      "image/png": "[encoded data removed]",
      "text/plain": [
       "<Figure size 524.16x648 with 7 Axes>"
      ]
     },
     "metadata": {
      "needs_background": "light"
     },
     "output_type": "display_data"
    }
   ],
   "source": [
    "# CREATE PLOT\n",
    "\n",
    "# set up the figure\n",
    "fig=plt.figure(figsize=(7.28,9))\n",
    "gs=GridSpec(3,4, width_ratios=(0.5,4,2,1), height_ratios=(1,20,1)) # create the grid that the plot goes on\n",
    "ax1=fig.add_subplot(gs[1,0]) # axis 1 contains the dendrogram\n",
    "ax2=fig.add_subplot(gs[1,1]) # axis 2 contains the heatmap\n",
    "ax2a=fig.add_subplot(gs[0,1]) # axis 2a contains the sample group labels\n",
    "ax2b=fig.add_subplot(gs[2,1]) # axis 2b contains the heatmap colorbar\n",
    "ax3=fig.add_subplot(gs[1,2]) # axis 3 contains the metabolite labels\n",
    "ax4=fig.add_subplot(gs[1,3]) # axis 4 contains the circle plot\n",
    "\n",
    "# plot the dendrogram\n",
    "plt.sca(ax1)   \n",
    "for i in range(len(R['dcoord'])):\n",
    "    if i < 25: color='#984ea3'\n",
    "    elif i == len(R['dcoord'])-1: color='k'\n",
    "    else: color='#999999'\n",
    "    plt.plot(-1*np.array(R['dcoord'][i]), R['icoord'][i], color=color, lw=1)  \n",
    "plt.ylim([10*hmdata.shape[0],0])\n",
    "plt.text(-3.6,120,'primarily exometabolites',fontsize=7, rotation=90, ha='right', va='center', color='#984ea3')\n",
    "plt.text(-3.6,370,'primarily cell pellet metabolites',fontsize=7, rotation=90, ha='right', va='center', color='#999999')\n",
    "plt.xlim(-3.5,0)\n",
    "plt.yticks([])\n",
    "ax1.axis('off')\n",
    "\n",
    "# plot the heatmap\n",
    "plt.sca(ax2)\n",
    "plt.pcolormesh(sorted_hmdata, cmap='Greens')\n",
    "x = np.arange(12) * 4 \n",
    "plt.vlines(x[1:len(x)],-1,data.shape[1],color='k', lw=1)\n",
    "plt.hlines(26,0,48, lw=1)\n",
    "plt.ylim(hmdata.shape[0],0)\n",
    "plt.xticks([])\n",
    "plt.yticks([])\n",
    "\n",
    "# add the sample group labels\n",
    "plt.sca(ax2a)\n",
    "plt.title('(a) Identified Metabolite Levels Across Samples', fontsize=7)\n",
    "plt.text(12,2,'Exudates', fontsize=7, rotation=0, ha='center', va='center')\n",
    "plt.text(36,2,'Pellets', fontsize=7, rotation=0, ha='center', va='center')\n",
    "times = ['medium','t=0d','t=3d','t=6d','t=9d','t=12d',\n",
    "         'medium','t=0d','t=3d','t=6d','t=9d','t=12d']\n",
    "for idx in range(len(times)):\n",
    "    if times[idx] != 'medium':\n",
    "        plt.text(x[idx]+2,1,times[idx], va='center', ha='center', fontsize=5)\n",
    "    else:\n",
    "        plt.text(x[idx]+2,1,times[idx], va='center', ha='center', fontsize=5)\n",
    "plt.vlines(24,0,3,color='k', lw=1)\n",
    "plt.xlim(0,48)\n",
    "plt.ylim(0.5,3)\n",
    "plt.xticks([])\n",
    "plt.yticks([])\n",
    "\n",
    "# add the colorbar\n",
    "plt.sca(ax2b)\n",
    "cbar = plt.colorbar(drawedges=False, ticks=[0,1],aspect=50, orientation='horizontal')\n",
    "cbar.ax.set_xticklabels([0,1], fontsize=7)\n",
    "cbar.set_label(label='relative intensity',fontsize=7, labelpad=-5)\n",
    "cbar.ax.tick_params(length=0)\n",
    "plt.axis('off')\n",
    "\n",
    "# add the metabolite labels\n",
    "plt.sca(ax3)\n",
    "favorites = ['riboflavin', '4-hydroxybenzoic acid', 'lumichrome', 'nicotinic/isonicotinic acid', 'biotin', 'salicylic acid', \n",
    "             'mandelic acid', '4-pyridoxic acid', 'pyrrole-2-carboxylic acid', 'indole-3-acetic acid', '2-hydroxyphenylacetic acid',\n",
    "             'pantothenic acid', 'shikimic acid', 'pyridoxine (putative)']\n",
    "nitrogen = [\"deoxyadenosine (putative)\",\"4-hydroxy-2-quinolinecarboxylic acid\",\"4-pyridoxic acid\",\"5-hydroxyindoleacetic acid\",\n",
    "            \"5'-methylthioadenosine\",\"adenine\",\"adenosine\",\"adenosine 5'-monophosphoric acid\",\"betaine\",\"biotin\",\"carnitine\",\"carnosine\",\n",
    "            \"choline\",\"cytidine\",\"guanine\",\"dethiobiotin\",\"formyl-methionyl peptide\",\"glutamic acid\",\"glutathione\",\"guanine\",\n",
    "            \"hypoxanthine\",\"indole-3-acetaldehyde\",\"indole-3-acetic acid\",\"indole-3-pyruvic acid\",\"inosine\",\"isoleucine\",\n",
    "            \"leucine/norleucine\",\"lumichrome\",\"N-acetyl-hexosamines\",\"N-acetyl-leucine\",\"n-acetyl-tryptophan\",\"NAD+\",\"nicotinamide\",\n",
    "            \"nicotinic/isonicotinic acid\",\"N-methyl-glutamic acid\",\"pantothenic acid\",\"phenylalanine\",\"proline\",\"pterin\",\n",
    "            \"pyridoxine (putative)\",\n",
    "            \"pyrrole-2-carboxylic acid\",\"riboflavin\",\"thiamine\",\"thymine\",\"trigonelline\",\"tyrosine\",\"uracil\",\"xanthine\"]\n",
    "for idx in np.arange(len(ex_diff.index)):\n",
    "    weight = 'normal'\n",
    "    color = 'k'\n",
    "    if ex_diff.index[idx] in favorites:\n",
    "        weight = 'extra bold'\n",
    "    if not(ex_diff.index[idx] in nitrogen):\n",
    "        color = 'g'\n",
    "    plt.text(0,idx,ex_diff.index[idx], fontsize=7, ha='center', va='center', weight=weight, color=color)\n",
    "plt.hlines(25.5,-1,1, lw=1)\n",
    "plt.ylim(len(ex_diff.index)-0.5, -0.5)\n",
    "plt.xlim(-1,1)\n",
    "plt.axis('off')\n",
    "\n",
    "#plot the bubble plot\n",
    "plt.sca(ax4)\n",
    "colors = ['y','g','b','purple']\n",
    "for y in range(len(ex_diff.index)):\n",
    "    plt.scatter([0,1,2,3],y*np.ones(4),\n",
    "                s=ex_diff.loc[ex_diff.index[y]]*200, \n",
    "                c=colors,\n",
    "                alpha=0.7)\n",
    "rect = patches.Rectangle((-0.5,25.5), 4, 30, linewidth=1, edgecolor='w', facecolor='w')\n",
    "ax4.add_patch(rect)\n",
    "plt.hlines([-0.5,25.5],-0.5,4.5, lw=1)\n",
    "plt.vlines([-0.5,3.5], -0.5,25.5)\n",
    "plt.ylim(len(ex_diff.index)-0.5, -0.5)\n",
    "plt.xlim(-0.5,3.5)\n",
    "plt.axis('off')\n",
    "phases = ['lag','early log','late log','stationary']\n",
    "for i in range(len(phases)):\n",
    "    plt.text(i+0.25,26,phases[i], fontsize=7, rotation=45, ha='right', color=colors[i])\n",
    "plt.title('(b) Exometabolite\\nProduction\\nAcross\\nGrowth Phases',fontsize=7)\n",
    "ax4.tick_params(length=0)\n",
    "\n",
    "# cleanup\n",
    "plt.tight_layout()\n",
    "plt.subplots_adjust(wspace=0, hspace=0, right=0.99)\n",
    "plt.savefig('Figure3.png', dpi=200)\n",
    "plt.show()"
   ]
  },
  {
   "cell_type": "code",
   "execution_count": null,
   "id": "7858dc6f",
   "metadata": {},
   "outputs": [],
   "source": [
    "# chi square test analyses of associatins of metablite groups with exudates or cell pellets"
   ]
  },
  {
   "cell_type": "code",
   "execution_count": 32,
   "id": "55c674bd",
   "metadata": {},
   "outputs": [
    {
     "data": {
      "text/plain": [
       "Power_divergenceResult(statistic=9.23076923076923, pvalue=0.002379816463809706)"
      ]
     },
     "execution_count": 32,
     "metadata": {},
     "output_type": "execute_result"
    }
   ],
   "source": [
    "#organic acids \n",
    "scipy.stats.chisquare([0,10], f_exp=[24/50*10,26/50*10])"
   ]
  },
  {
   "cell_type": "code",
   "execution_count": 33,
   "id": "80480471",
   "metadata": {},
   "outputs": [
    {
     "data": {
      "text/plain": [
       "Power_divergenceResult(statistic=1.256410256410256, pvalue=0.2623316754083541)"
      ]
     },
     "execution_count": 33,
     "metadata": {},
     "output_type": "execute_result"
    }
   ],
   "source": [
    "#nucleoside\n",
    "scipy.stats.chisquare([6,3], f_exp=[24/50*9,26/50*9])"
   ]
  },
  {
   "cell_type": "code",
   "execution_count": 34,
   "id": "5039d62c",
   "metadata": {},
   "outputs": [
    {
     "data": {
      "text/plain": [
       "Power_divergenceResult(statistic=0.6738782051282053, pvalue=0.4117027470058471)"
      ]
     },
     "execution_count": 34,
     "metadata": {},
     "output_type": "execute_result"
    }
   ],
   "source": [
    "#amino acids\n",
    "scipy.stats.chisquare([5,3], f_exp=[24/50*8,26/50*8])"
   ]
  },
  {
   "cell_type": "code",
   "execution_count": 35,
   "id": "ed0f9b56",
   "metadata": {},
   "outputs": [
    {
     "data": {
      "text/plain": [
       "Power_divergenceResult(statistic=2.3960113960113967, pvalue=0.12164505343634172)"
      ]
     },
     "execution_count": 35,
     "metadata": {},
     "output_type": "execute_result"
    }
   ],
   "source": [
    "#vitamins\n",
    "scipy.stats.chisquare([2,7], f_exp=[24/50*9,26/50*9])"
   ]
  },
  {
   "cell_type": "code",
   "execution_count": null,
   "id": "8ec6cbb3",
   "metadata": {},
   "outputs": [],
   "source": []
  }
 ],
 "metadata": {
  "kernelspec": {
   "display_name": "Python 3",
   "language": "python",
   "name": "python3"
  },
  "language_info": {
   "codemirror_mode": {
    "name": "ipython",
    "version": 3
   },
   "file_extension": ".py",
   "mimetype": "text/x-python",
   "name": "python",
   "nbconvert_exporter": "python",
   "pygments_lexer": "ipython3",
   "version": "3.6.13"
  }
 },
 "nbformat": 4,
 "nbformat_minor": 5
}
